{
 "metadata": {
  "name": "week1_assignments"
 },
 "nbformat": 3,
 "nbformat_minor": 0,
 "worksheets": [
  {
   "cells": [
    {
     "cell_type": "markdown",
     "metadata": {},
     "source": [
      "1.3 <br>\n",
      "Can a newborn baby in Norway expect to live for one billion (10**9)\n",
      "seconds? Name of program file: seconds2years.py."
     ]
    },
    {
     "cell_type": "code",
     "collapsed": false,
     "input": [
      "\"\"\"\n",
      "seconds2years.py\n",
      "exercise 1.3\n",
      "\"\"\"\n",
      "\n",
      "seconds = 1000000000\n",
      "minutes = seconds / 60.0\n",
      "hours = minutes / 60.0\n",
      "days = hours / 24.0\n",
      "years = days / 365.25\n",
      "print 'seconds in scientific notation is %.2E' % seconds\n",
      "print \"One billion seconds is about %.1f years\" % years"
     ],
     "language": "python",
     "metadata": {},
     "outputs": [
      {
       "output_type": "stream",
       "stream": "stdout",
       "text": [
        "seconds in scientific notation is 1.00E+09\n",
        "One billion seconds is about 31.7 years\n"
       ]
      }
     ],
     "prompt_number": 1
    },
    {
     "cell_type": "markdown",
     "metadata": {},
     "source": [
      "1.13 <br>\n",
      "The following formula expresses the time t it takes (in seconds) for\n",
      "the center of the yolk to reach the temperature Ty (in Celsius degrees): <br><br>\n",
      "$$t = \\frac{M^{2/3}c\\rho^{1/3}}{K\\pi^2(4\\pi/3)^{2/3}}ln\\left [ 0.76\\frac{T_{0}-T_{w}}{T_{y}-T_{w}} \\right ]$$<br>\n",
      "Here, M, \u001a, c, and K are properties of the egg: M is the mass,\n",
      "\u001ais the density, c is the specific heat capacity, and K is thermal\n",
      "conductivity. Relevant values are M = 47 g for a small egg and\n",
      "M = 67 g for a large egg, \u001a = 1.038 g cm\u22123, c = 3.7 J g\u22121 K\u22121, and\n",
      "K = 5.4 \u00b710\u22123 Wcm\u22121 K\u22121. Furthermore, Tw is the temperature (in C\n",
      "degrees) of the boiling water, and To is the original temperature (in C\n",
      "degrees) of the egg before being put in the water. Implement the formula\n",
      "in a program, set Tw = 100 C and Ty = 70 C, and compute t for a\n",
      "large egg taken from the fridge (To = 4 C) and from room temperature\n",
      "(To = 20 C). Name of program file: egg.py."
     ]
    },
    {
     "cell_type": "code",
     "collapsed": false,
     "input": [
      "\"\"\"\n",
      "egg.py\n",
      "exercise 1.13\n",
      "\"\"\"\n",
      "\n",
      "from math import pi, log\n",
      "M = 54.0    # mass in grams\n",
      "d = 1.038   # density in g/cm**-3\n",
      "c = 3.7     # specific heat capacity g**-1 K**-1\n",
      "K = 5.4e-3  # thermal conductivity W cm**-1 K**-1\n",
      "T0 = 4.0    # temp at time zero\n",
      "Tw = 100.0  # temp of water\n",
      "Ty = 70.0   # temp of yolk\n",
      "t = (M**(2.0/3.0)*c*d**(1.0/3.0)/(K*pi**2.0*(4.0*pi/3.0)**(2.0/3.0)))*log(0.76*((T0-Tw)/(Ty-Tw)))\n",
      "print \"\"\"\\\n",
      "The %gg egg with a starting temperature of %gC will take \n",
      "%.2f minutes to reach an internal temperature of %g degrees\"\"\" % (M,T0,t/60,Ty)"
     ],
     "language": "python",
     "metadata": {},
     "outputs": [
      {
       "output_type": "stream",
       "stream": "stdout",
       "text": [
        "The 54g egg with a starting temperature of 4C will take \n",
        "5.72 minutes to reach an internal temperature of 70 degrees\n"
       ]
      }
     ],
     "prompt_number": 3
    },
    {
     "cell_type": "markdown",
     "metadata": {},
     "source": [
      "1.14 <br>\n",
      "The ball will follow a trajectory y = f(x) through the air26, where<br><br>\n",
      "    $$f(x)=x \\mathrm{tan}\\Theta - \\frac{1}{2v_{o}^{2}} \\frac{gx^2}{\\mathrm{cos}^2\\Theta} + y_{0} $$<br>\n",
      "In this expression, x is a horizontal coordinate, g is the acceleration\n",
      "of gravity, v0 is the size of the initial velocity which makes an angle \u0012\n",
      "with the x axis, and (0, y0) is the initial position of the ball. Our programming\n",
      "goal is to make a program for evaluating (1.5)."
     ]
    },
    {
     "cell_type": "code",
     "collapsed": false,
     "input": [
      "\"\"\"\n",
      "trajectory.py\n",
      "exercise 1.14\n",
      "\n",
      "\"\"\"\n",
      "g = 9.81\n",
      "v0 = 15\n",
      "theta = 70\n",
      "x = 0.5\n",
      "y0 = 1\n",
      "\n",
      "print \"\"\"\n",
      "v0 = %.1f km/h\n",
      "theta = %d degrees\n",
      "x = %.1f m\n",
      "y0 = %.2f m\\\n",
      "\"\"\" % (v0, theta, x, y0 )\n",
      "\n",
      "from math import pi, tan, cos\n",
      "v0 = v0/3.6\n",
      "theta = theta*pi/180\n",
      "\n",
      "y = x*tan(theta) - 1/(2*v0**2)*g*x**2/((cos(theta))**2) + y0\n",
      "print \"y   = %.2f m\" % y\n"
     ],
     "language": "python",
     "metadata": {},
     "outputs": []
    },
    {
     "cell_type": "code",
     "collapsed": false,
     "input": [],
     "language": "python",
     "metadata": {},
     "outputs": []
    }
   ],
   "metadata": {}
  }
 ]
}